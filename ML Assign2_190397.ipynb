{
 "cells": [
  {
   "cell_type": "code",
   "execution_count": 1,
   "id": "26a479d7",
   "metadata": {},
   "outputs": [],
   "source": [
    "#importing libraries\n",
    "import numpy as np\n",
    "import pandas as pd\n",
    "import sklearn\n",
    "from matplotlib import pyplot as plt"
   ]
  },
  {
   "cell_type": "code",
   "execution_count": 2,
   "id": "ee9975d6",
   "metadata": {},
   "outputs": [
    {
     "data": {
      "text/html": [
       "<div>\n",
       "<style scoped>\n",
       "    .dataframe tbody tr th:only-of-type {\n",
       "        vertical-align: middle;\n",
       "    }\n",
       "\n",
       "    .dataframe tbody tr th {\n",
       "        vertical-align: top;\n",
       "    }\n",
       "\n",
       "    .dataframe thead th {\n",
       "        text-align: right;\n",
       "    }\n",
       "</style>\n",
       "<table border=\"1\" class=\"dataframe\">\n",
       "  <thead>\n",
       "    <tr style=\"text-align: right;\">\n",
       "      <th></th>\n",
       "      <th>MONTH</th>\n",
       "      <th>DAY_OF_MONTH</th>\n",
       "      <th>DAY_OF_WEEK</th>\n",
       "      <th>OP_UNIQUE_CARRIER</th>\n",
       "      <th>TAIL_NUM</th>\n",
       "      <th>DEST</th>\n",
       "      <th>DEP_DELAY</th>\n",
       "      <th>CRS_ELAPSED_TIME</th>\n",
       "      <th>DISTANCE</th>\n",
       "      <th>CRS_DEP_M</th>\n",
       "      <th>...</th>\n",
       "      <th>Dew Point</th>\n",
       "      <th>Humidity</th>\n",
       "      <th>Wind</th>\n",
       "      <th>Wind Speed</th>\n",
       "      <th>Wind Gust</th>\n",
       "      <th>Pressure</th>\n",
       "      <th>Condition</th>\n",
       "      <th>sch_dep</th>\n",
       "      <th>sch_arr</th>\n",
       "      <th>TAXI_OUT</th>\n",
       "    </tr>\n",
       "  </thead>\n",
       "  <tbody>\n",
       "    <tr>\n",
       "      <th>0</th>\n",
       "      <td>11</td>\n",
       "      <td>1</td>\n",
       "      <td>5</td>\n",
       "      <td>B6</td>\n",
       "      <td>N828JB</td>\n",
       "      <td>CHS</td>\n",
       "      <td>-1</td>\n",
       "      <td>124</td>\n",
       "      <td>636</td>\n",
       "      <td>324</td>\n",
       "      <td>...</td>\n",
       "      <td>34</td>\n",
       "      <td>58</td>\n",
       "      <td>W</td>\n",
       "      <td>25</td>\n",
       "      <td>38</td>\n",
       "      <td>29.86</td>\n",
       "      <td>Fair / Windy</td>\n",
       "      <td>9</td>\n",
       "      <td>17</td>\n",
       "      <td>14</td>\n",
       "    </tr>\n",
       "    <tr>\n",
       "      <th>1</th>\n",
       "      <td>11</td>\n",
       "      <td>1</td>\n",
       "      <td>5</td>\n",
       "      <td>B6</td>\n",
       "      <td>N992JB</td>\n",
       "      <td>LAX</td>\n",
       "      <td>-7</td>\n",
       "      <td>371</td>\n",
       "      <td>2475</td>\n",
       "      <td>340</td>\n",
       "      <td>...</td>\n",
       "      <td>34</td>\n",
       "      <td>58</td>\n",
       "      <td>W</td>\n",
       "      <td>25</td>\n",
       "      <td>38</td>\n",
       "      <td>29.86</td>\n",
       "      <td>Fair / Windy</td>\n",
       "      <td>9</td>\n",
       "      <td>17</td>\n",
       "      <td>15</td>\n",
       "    </tr>\n",
       "    <tr>\n",
       "      <th>2</th>\n",
       "      <td>11</td>\n",
       "      <td>1</td>\n",
       "      <td>5</td>\n",
       "      <td>B6</td>\n",
       "      <td>N959JB</td>\n",
       "      <td>FLL</td>\n",
       "      <td>40</td>\n",
       "      <td>181</td>\n",
       "      <td>1069</td>\n",
       "      <td>301</td>\n",
       "      <td>...</td>\n",
       "      <td>34</td>\n",
       "      <td>58</td>\n",
       "      <td>W</td>\n",
       "      <td>25</td>\n",
       "      <td>38</td>\n",
       "      <td>29.86</td>\n",
       "      <td>Fair / Windy</td>\n",
       "      <td>9</td>\n",
       "      <td>17</td>\n",
       "      <td>22</td>\n",
       "    </tr>\n",
       "    <tr>\n",
       "      <th>3</th>\n",
       "      <td>11</td>\n",
       "      <td>1</td>\n",
       "      <td>5</td>\n",
       "      <td>B6</td>\n",
       "      <td>N999JQ</td>\n",
       "      <td>MCO</td>\n",
       "      <td>-2</td>\n",
       "      <td>168</td>\n",
       "      <td>944</td>\n",
       "      <td>345</td>\n",
       "      <td>...</td>\n",
       "      <td>34</td>\n",
       "      <td>58</td>\n",
       "      <td>W</td>\n",
       "      <td>25</td>\n",
       "      <td>38</td>\n",
       "      <td>29.86</td>\n",
       "      <td>Fair / Windy</td>\n",
       "      <td>9</td>\n",
       "      <td>17</td>\n",
       "      <td>12</td>\n",
       "    </tr>\n",
       "    <tr>\n",
       "      <th>4</th>\n",
       "      <td>11</td>\n",
       "      <td>1</td>\n",
       "      <td>5</td>\n",
       "      <td>DL</td>\n",
       "      <td>N880DN</td>\n",
       "      <td>ATL</td>\n",
       "      <td>-4</td>\n",
       "      <td>139</td>\n",
       "      <td>760</td>\n",
       "      <td>360</td>\n",
       "      <td>...</td>\n",
       "      <td>32</td>\n",
       "      <td>58</td>\n",
       "      <td>W</td>\n",
       "      <td>24</td>\n",
       "      <td>35</td>\n",
       "      <td>29.91</td>\n",
       "      <td>Fair / Windy</td>\n",
       "      <td>9</td>\n",
       "      <td>17</td>\n",
       "      <td>13</td>\n",
       "    </tr>\n",
       "  </tbody>\n",
       "</table>\n",
       "<p>5 rows × 23 columns</p>\n",
       "</div>"
      ],
      "text/plain": [
       "   MONTH  DAY_OF_MONTH  DAY_OF_WEEK OP_UNIQUE_CARRIER TAIL_NUM DEST  \\\n",
       "0     11             1            5                B6   N828JB  CHS   \n",
       "1     11             1            5                B6   N992JB  LAX   \n",
       "2     11             1            5                B6   N959JB  FLL   \n",
       "3     11             1            5                B6   N999JQ  MCO   \n",
       "4     11             1            5                DL   N880DN  ATL   \n",
       "\n",
       "   DEP_DELAY  CRS_ELAPSED_TIME  DISTANCE  CRS_DEP_M  ...  Dew Point  Humidity  \\\n",
       "0         -1               124       636        324  ...         34        58   \n",
       "1         -7               371      2475        340  ...         34        58   \n",
       "2         40               181      1069        301  ...         34        58   \n",
       "3         -2               168       944        345  ...         34        58   \n",
       "4         -4               139       760        360  ...         32        58   \n",
       "\n",
       "   Wind Wind Speed  Wind Gust Pressure     Condition  sch_dep  sch_arr  \\\n",
       "0     W         25         38    29.86  Fair / Windy        9       17   \n",
       "1     W         25         38    29.86  Fair / Windy        9       17   \n",
       "2     W         25         38    29.86  Fair / Windy        9       17   \n",
       "3     W         25         38    29.86  Fair / Windy        9       17   \n",
       "4     W         24         35    29.91  Fair / Windy        9       17   \n",
       "\n",
       "  TAXI_OUT  \n",
       "0       14  \n",
       "1       15  \n",
       "2       22  \n",
       "3       12  \n",
       "4       13  \n",
       "\n",
       "[5 rows x 23 columns]"
      ]
     },
     "execution_count": 2,
     "metadata": {},
     "output_type": "execute_result"
    }
   ],
   "source": [
    "data = pd.read_csv(\"M1_final.csv\")\n",
    "data.head()"
   ]
  },
  {
   "cell_type": "code",
   "execution_count": 3,
   "id": "18910e11",
   "metadata": {},
   "outputs": [
    {
     "name": "stdout",
     "output_type": "stream",
     "text": [
      "(28820, 23)\n"
     ]
    }
   ],
   "source": [
    "print(data.shape)"
   ]
  },
  {
   "cell_type": "code",
   "execution_count": 4,
   "id": "61f80496",
   "metadata": {},
   "outputs": [
    {
     "name": "stdout",
     "output_type": "stream",
     "text": [
      "(28820, 22)\n"
     ]
    }
   ],
   "source": [
    "data.drop(\"TAIL_NUM\",axis=1,inplace=True)\n",
    "print(data.shape)"
   ]
  },
  {
   "cell_type": "code",
   "execution_count": 5,
   "id": "8ebf09fc",
   "metadata": {},
   "outputs": [
    {
     "name": "stdout",
     "output_type": "stream",
     "text": [
      "<class 'pandas.core.frame.DataFrame'>\n",
      "RangeIndex: 28820 entries, 0 to 28819\n",
      "Data columns (total 22 columns):\n",
      " #   Column             Non-Null Count  Dtype  \n",
      "---  ------             --------------  -----  \n",
      " 0   MONTH              28820 non-null  int64  \n",
      " 1   DAY_OF_MONTH       28820 non-null  int64  \n",
      " 2   DAY_OF_WEEK        28820 non-null  int64  \n",
      " 3   OP_UNIQUE_CARRIER  28820 non-null  object \n",
      " 4   DEST               28820 non-null  object \n",
      " 5   DEP_DELAY          28820 non-null  int64  \n",
      " 6   CRS_ELAPSED_TIME   28820 non-null  int64  \n",
      " 7   DISTANCE           28820 non-null  int64  \n",
      " 8   CRS_DEP_M          28820 non-null  int64  \n",
      " 9   DEP_TIME_M         28820 non-null  int64  \n",
      " 10  CRS_ARR_M          28820 non-null  int64  \n",
      " 11  Temperature        28820 non-null  int64  \n",
      " 12  Dew Point          28820 non-null  object \n",
      " 13  Humidity           28820 non-null  int64  \n",
      " 14  Wind               28818 non-null  object \n",
      " 15  Wind Speed         28820 non-null  int64  \n",
      " 16  Wind Gust          28820 non-null  int64  \n",
      " 17  Pressure           28820 non-null  float64\n",
      " 18  Condition          28820 non-null  object \n",
      " 19  sch_dep            28820 non-null  int64  \n",
      " 20  sch_arr            28820 non-null  int64  \n",
      " 21  TAXI_OUT           28820 non-null  int64  \n",
      "dtypes: float64(1), int64(16), object(5)\n",
      "memory usage: 4.8+ MB\n"
     ]
    }
   ],
   "source": [
    "data.info()"
   ]
  },
  {
   "cell_type": "code",
   "execution_count": 6,
   "id": "cf9b8a2b",
   "metadata": {},
   "outputs": [
    {
     "data": {
      "text/plain": [
       "MONTH                0\n",
       "DAY_OF_MONTH         0\n",
       "DAY_OF_WEEK          0\n",
       "OP_UNIQUE_CARRIER    0\n",
       "DEST                 0\n",
       "DEP_DELAY            0\n",
       "CRS_ELAPSED_TIME     0\n",
       "DISTANCE             0\n",
       "CRS_DEP_M            0\n",
       "DEP_TIME_M           0\n",
       "CRS_ARR_M            0\n",
       "Temperature          0\n",
       "Dew Point            0\n",
       "Humidity             0\n",
       "Wind                 2\n",
       "Wind Speed           0\n",
       "Wind Gust            0\n",
       "Pressure             0\n",
       "Condition            0\n",
       "sch_dep              0\n",
       "sch_arr              0\n",
       "TAXI_OUT             0\n",
       "dtype: int64"
      ]
     },
     "execution_count": 6,
     "metadata": {},
     "output_type": "execute_result"
    }
   ],
   "source": [
    "data.isnull().sum()"
   ]
  },
  {
   "cell_type": "code",
   "execution_count": 7,
   "id": "1a15c403",
   "metadata": {
    "scrolled": false
   },
   "outputs": [
    {
     "name": "stdout",
     "output_type": "stream",
     "text": [
      "Dataframe dimensions: (28818, 22)\n"
     ]
    },
    {
     "data": {
      "text/html": [
       "<div>\n",
       "<style scoped>\n",
       "    .dataframe tbody tr th:only-of-type {\n",
       "        vertical-align: middle;\n",
       "    }\n",
       "\n",
       "    .dataframe tbody tr th {\n",
       "        vertical-align: top;\n",
       "    }\n",
       "\n",
       "    .dataframe thead th {\n",
       "        text-align: right;\n",
       "    }\n",
       "</style>\n",
       "<table border=\"1\" class=\"dataframe\">\n",
       "  <thead>\n",
       "    <tr style=\"text-align: right;\">\n",
       "      <th></th>\n",
       "      <th>MONTH</th>\n",
       "      <th>DAY_OF_MONTH</th>\n",
       "      <th>DAY_OF_WEEK</th>\n",
       "      <th>OP_UNIQUE_CARRIER</th>\n",
       "      <th>DEST</th>\n",
       "      <th>DEP_DELAY</th>\n",
       "      <th>CRS_ELAPSED_TIME</th>\n",
       "      <th>DISTANCE</th>\n",
       "      <th>CRS_DEP_M</th>\n",
       "      <th>DEP_TIME_M</th>\n",
       "      <th>...</th>\n",
       "      <th>Dew Point</th>\n",
       "      <th>Humidity</th>\n",
       "      <th>Wind</th>\n",
       "      <th>Wind Speed</th>\n",
       "      <th>Wind Gust</th>\n",
       "      <th>Pressure</th>\n",
       "      <th>Condition</th>\n",
       "      <th>sch_dep</th>\n",
       "      <th>sch_arr</th>\n",
       "      <th>TAXI_OUT</th>\n",
       "    </tr>\n",
       "  </thead>\n",
       "  <tbody>\n",
       "    <tr>\n",
       "      <th>0</th>\n",
       "      <td>11</td>\n",
       "      <td>1</td>\n",
       "      <td>5</td>\n",
       "      <td>B6</td>\n",
       "      <td>CHS</td>\n",
       "      <td>-1</td>\n",
       "      <td>124</td>\n",
       "      <td>636</td>\n",
       "      <td>324</td>\n",
       "      <td>323</td>\n",
       "      <td>...</td>\n",
       "      <td>34</td>\n",
       "      <td>58</td>\n",
       "      <td>W</td>\n",
       "      <td>25</td>\n",
       "      <td>38</td>\n",
       "      <td>29.86</td>\n",
       "      <td>Fair / Windy</td>\n",
       "      <td>9</td>\n",
       "      <td>17</td>\n",
       "      <td>14</td>\n",
       "    </tr>\n",
       "    <tr>\n",
       "      <th>1</th>\n",
       "      <td>11</td>\n",
       "      <td>1</td>\n",
       "      <td>5</td>\n",
       "      <td>B6</td>\n",
       "      <td>LAX</td>\n",
       "      <td>-7</td>\n",
       "      <td>371</td>\n",
       "      <td>2475</td>\n",
       "      <td>340</td>\n",
       "      <td>333</td>\n",
       "      <td>...</td>\n",
       "      <td>34</td>\n",
       "      <td>58</td>\n",
       "      <td>W</td>\n",
       "      <td>25</td>\n",
       "      <td>38</td>\n",
       "      <td>29.86</td>\n",
       "      <td>Fair / Windy</td>\n",
       "      <td>9</td>\n",
       "      <td>17</td>\n",
       "      <td>15</td>\n",
       "    </tr>\n",
       "    <tr>\n",
       "      <th>2</th>\n",
       "      <td>11</td>\n",
       "      <td>1</td>\n",
       "      <td>5</td>\n",
       "      <td>B6</td>\n",
       "      <td>FLL</td>\n",
       "      <td>40</td>\n",
       "      <td>181</td>\n",
       "      <td>1069</td>\n",
       "      <td>301</td>\n",
       "      <td>341</td>\n",
       "      <td>...</td>\n",
       "      <td>34</td>\n",
       "      <td>58</td>\n",
       "      <td>W</td>\n",
       "      <td>25</td>\n",
       "      <td>38</td>\n",
       "      <td>29.86</td>\n",
       "      <td>Fair / Windy</td>\n",
       "      <td>9</td>\n",
       "      <td>17</td>\n",
       "      <td>22</td>\n",
       "    </tr>\n",
       "    <tr>\n",
       "      <th>3</th>\n",
       "      <td>11</td>\n",
       "      <td>1</td>\n",
       "      <td>5</td>\n",
       "      <td>B6</td>\n",
       "      <td>MCO</td>\n",
       "      <td>-2</td>\n",
       "      <td>168</td>\n",
       "      <td>944</td>\n",
       "      <td>345</td>\n",
       "      <td>343</td>\n",
       "      <td>...</td>\n",
       "      <td>34</td>\n",
       "      <td>58</td>\n",
       "      <td>W</td>\n",
       "      <td>25</td>\n",
       "      <td>38</td>\n",
       "      <td>29.86</td>\n",
       "      <td>Fair / Windy</td>\n",
       "      <td>9</td>\n",
       "      <td>17</td>\n",
       "      <td>12</td>\n",
       "    </tr>\n",
       "    <tr>\n",
       "      <th>4</th>\n",
       "      <td>11</td>\n",
       "      <td>1</td>\n",
       "      <td>5</td>\n",
       "      <td>DL</td>\n",
       "      <td>ATL</td>\n",
       "      <td>-4</td>\n",
       "      <td>139</td>\n",
       "      <td>760</td>\n",
       "      <td>360</td>\n",
       "      <td>356</td>\n",
       "      <td>...</td>\n",
       "      <td>32</td>\n",
       "      <td>58</td>\n",
       "      <td>W</td>\n",
       "      <td>24</td>\n",
       "      <td>35</td>\n",
       "      <td>29.91</td>\n",
       "      <td>Fair / Windy</td>\n",
       "      <td>9</td>\n",
       "      <td>17</td>\n",
       "      <td>13</td>\n",
       "    </tr>\n",
       "  </tbody>\n",
       "</table>\n",
       "<p>5 rows × 22 columns</p>\n",
       "</div>"
      ],
      "text/plain": [
       "   MONTH  DAY_OF_MONTH  DAY_OF_WEEK OP_UNIQUE_CARRIER DEST  DEP_DELAY  \\\n",
       "0     11             1            5                B6  CHS         -1   \n",
       "1     11             1            5                B6  LAX         -7   \n",
       "2     11             1            5                B6  FLL         40   \n",
       "3     11             1            5                B6  MCO         -2   \n",
       "4     11             1            5                DL  ATL         -4   \n",
       "\n",
       "   CRS_ELAPSED_TIME  DISTANCE  CRS_DEP_M  DEP_TIME_M  ...  Dew Point  \\\n",
       "0               124       636        324         323  ...         34   \n",
       "1               371      2475        340         333  ...         34   \n",
       "2               181      1069        301         341  ...         34   \n",
       "3               168       944        345         343  ...         34   \n",
       "4               139       760        360         356  ...         32   \n",
       "\n",
       "   Humidity Wind  Wind Speed Wind Gust  Pressure     Condition  sch_dep  \\\n",
       "0        58    W          25        38     29.86  Fair / Windy        9   \n",
       "1        58    W          25        38     29.86  Fair / Windy        9   \n",
       "2        58    W          25        38     29.86  Fair / Windy        9   \n",
       "3        58    W          25        38     29.86  Fair / Windy        9   \n",
       "4        58    W          24        35     29.91  Fair / Windy        9   \n",
       "\n",
       "  sch_arr  TAXI_OUT  \n",
       "0      17        14  \n",
       "1      17        15  \n",
       "2      17        22  \n",
       "3      17        12  \n",
       "4      17        13  \n",
       "\n",
       "[5 rows x 22 columns]"
      ]
     },
     "execution_count": 7,
     "metadata": {},
     "output_type": "execute_result"
    }
   ],
   "source": [
    "data = data.dropna()\n",
    "data.isnull().sum()\n",
    "print('Dataframe dimensions:', data.shape)\n",
    "data.head()"
   ]
  },
  {
   "cell_type": "markdown",
   "id": "c8333884",
   "metadata": {},
   "source": [
    "# Label Encoding"
   ]
  },
  {
   "cell_type": "code",
   "execution_count": 8,
   "id": "78592735",
   "metadata": {},
   "outputs": [],
   "source": [
    "from sklearn.preprocessing import LabelEncoder"
   ]
  },
  {
   "cell_type": "code",
   "execution_count": 9,
   "id": "bdca42f8",
   "metadata": {},
   "outputs": [
    {
     "data": {
      "text/html": [
       "<div>\n",
       "<style scoped>\n",
       "    .dataframe tbody tr th:only-of-type {\n",
       "        vertical-align: middle;\n",
       "    }\n",
       "\n",
       "    .dataframe tbody tr th {\n",
       "        vertical-align: top;\n",
       "    }\n",
       "\n",
       "    .dataframe thead th {\n",
       "        text-align: right;\n",
       "    }\n",
       "</style>\n",
       "<table border=\"1\" class=\"dataframe\">\n",
       "  <thead>\n",
       "    <tr style=\"text-align: right;\">\n",
       "      <th></th>\n",
       "      <th>MONTH</th>\n",
       "      <th>DAY_OF_MONTH</th>\n",
       "      <th>DAY_OF_WEEK</th>\n",
       "      <th>OP_UNIQUE_CARRIER</th>\n",
       "      <th>DEST</th>\n",
       "      <th>DEP_DELAY</th>\n",
       "      <th>CRS_ELAPSED_TIME</th>\n",
       "      <th>DISTANCE</th>\n",
       "      <th>CRS_DEP_M</th>\n",
       "      <th>DEP_TIME_M</th>\n",
       "      <th>...</th>\n",
       "      <th>Dew Point</th>\n",
       "      <th>Humidity</th>\n",
       "      <th>Wind</th>\n",
       "      <th>Wind Speed</th>\n",
       "      <th>Wind Gust</th>\n",
       "      <th>Pressure</th>\n",
       "      <th>Condition</th>\n",
       "      <th>sch_dep</th>\n",
       "      <th>sch_arr</th>\n",
       "      <th>TAXI_OUT</th>\n",
       "    </tr>\n",
       "  </thead>\n",
       "  <tbody>\n",
       "    <tr>\n",
       "      <th>0</th>\n",
       "      <td>11</td>\n",
       "      <td>1</td>\n",
       "      <td>5</td>\n",
       "      <td>3</td>\n",
       "      <td>10</td>\n",
       "      <td>-1</td>\n",
       "      <td>124</td>\n",
       "      <td>636</td>\n",
       "      <td>324</td>\n",
       "      <td>323</td>\n",
       "      <td>...</td>\n",
       "      <td>34</td>\n",
       "      <td>58</td>\n",
       "      <td>15</td>\n",
       "      <td>25</td>\n",
       "      <td>38</td>\n",
       "      <td>29.86</td>\n",
       "      <td>4</td>\n",
       "      <td>9</td>\n",
       "      <td>17</td>\n",
       "      <td>14</td>\n",
       "    </tr>\n",
       "    <tr>\n",
       "      <th>1</th>\n",
       "      <td>11</td>\n",
       "      <td>1</td>\n",
       "      <td>5</td>\n",
       "      <td>3</td>\n",
       "      <td>28</td>\n",
       "      <td>-7</td>\n",
       "      <td>371</td>\n",
       "      <td>2475</td>\n",
       "      <td>340</td>\n",
       "      <td>333</td>\n",
       "      <td>...</td>\n",
       "      <td>34</td>\n",
       "      <td>58</td>\n",
       "      <td>15</td>\n",
       "      <td>25</td>\n",
       "      <td>38</td>\n",
       "      <td>29.86</td>\n",
       "      <td>4</td>\n",
       "      <td>9</td>\n",
       "      <td>17</td>\n",
       "      <td>15</td>\n",
       "    </tr>\n",
       "    <tr>\n",
       "      <th>2</th>\n",
       "      <td>11</td>\n",
       "      <td>1</td>\n",
       "      <td>5</td>\n",
       "      <td>3</td>\n",
       "      <td>20</td>\n",
       "      <td>40</td>\n",
       "      <td>181</td>\n",
       "      <td>1069</td>\n",
       "      <td>301</td>\n",
       "      <td>341</td>\n",
       "      <td>...</td>\n",
       "      <td>34</td>\n",
       "      <td>58</td>\n",
       "      <td>15</td>\n",
       "      <td>25</td>\n",
       "      <td>38</td>\n",
       "      <td>29.86</td>\n",
       "      <td>4</td>\n",
       "      <td>9</td>\n",
       "      <td>17</td>\n",
       "      <td>22</td>\n",
       "    </tr>\n",
       "    <tr>\n",
       "      <th>3</th>\n",
       "      <td>11</td>\n",
       "      <td>1</td>\n",
       "      <td>5</td>\n",
       "      <td>3</td>\n",
       "      <td>30</td>\n",
       "      <td>-2</td>\n",
       "      <td>168</td>\n",
       "      <td>944</td>\n",
       "      <td>345</td>\n",
       "      <td>343</td>\n",
       "      <td>...</td>\n",
       "      <td>34</td>\n",
       "      <td>58</td>\n",
       "      <td>15</td>\n",
       "      <td>25</td>\n",
       "      <td>38</td>\n",
       "      <td>29.86</td>\n",
       "      <td>4</td>\n",
       "      <td>9</td>\n",
       "      <td>17</td>\n",
       "      <td>12</td>\n",
       "    </tr>\n",
       "    <tr>\n",
       "      <th>4</th>\n",
       "      <td>11</td>\n",
       "      <td>1</td>\n",
       "      <td>5</td>\n",
       "      <td>4</td>\n",
       "      <td>1</td>\n",
       "      <td>-4</td>\n",
       "      <td>139</td>\n",
       "      <td>760</td>\n",
       "      <td>360</td>\n",
       "      <td>356</td>\n",
       "      <td>...</td>\n",
       "      <td>32</td>\n",
       "      <td>58</td>\n",
       "      <td>15</td>\n",
       "      <td>24</td>\n",
       "      <td>35</td>\n",
       "      <td>29.91</td>\n",
       "      <td>4</td>\n",
       "      <td>9</td>\n",
       "      <td>17</td>\n",
       "      <td>13</td>\n",
       "    </tr>\n",
       "  </tbody>\n",
       "</table>\n",
       "<p>5 rows × 22 columns</p>\n",
       "</div>"
      ],
      "text/plain": [
       "   MONTH  DAY_OF_MONTH  DAY_OF_WEEK  OP_UNIQUE_CARRIER  DEST  DEP_DELAY  \\\n",
       "0     11             1            5                  3    10         -1   \n",
       "1     11             1            5                  3    28         -7   \n",
       "2     11             1            5                  3    20         40   \n",
       "3     11             1            5                  3    30         -2   \n",
       "4     11             1            5                  4     1         -4   \n",
       "\n",
       "   CRS_ELAPSED_TIME  DISTANCE  CRS_DEP_M  DEP_TIME_M  ...  Dew Point  \\\n",
       "0               124       636        324         323  ...         34   \n",
       "1               371      2475        340         333  ...         34   \n",
       "2               181      1069        301         341  ...         34   \n",
       "3               168       944        345         343  ...         34   \n",
       "4               139       760        360         356  ...         32   \n",
       "\n",
       "   Humidity Wind  Wind Speed  Wind Gust  Pressure  Condition  sch_dep  \\\n",
       "0        58   15          25         38     29.86          4        9   \n",
       "1        58   15          25         38     29.86          4        9   \n",
       "2        58   15          25         38     29.86          4        9   \n",
       "3        58   15          25         38     29.86          4        9   \n",
       "4        58   15          24         35     29.91          4        9   \n",
       "\n",
       "   sch_arr  TAXI_OUT  \n",
       "0       17        14  \n",
       "1       17        15  \n",
       "2       17        22  \n",
       "3       17        12  \n",
       "4       17        13  \n",
       "\n",
       "[5 rows x 22 columns]"
      ]
     },
     "execution_count": 9,
     "metadata": {},
     "output_type": "execute_result"
    }
   ],
   "source": [
    "label_encoder = LabelEncoder()\n",
    "\n",
    "data['OP_UNIQUE_CARRIER'] = label_encoder.fit_transform(data['OP_UNIQUE_CARRIER'].astype(str))\n",
    "data['DEST'] = label_encoder.fit_transform(data['DEST'].astype(str))\n",
    "data['Wind'] = label_encoder.fit_transform(data['Wind'].astype(str))\n",
    "data['Condition'] = label_encoder.fit_transform(data['Condition'].astype(str))\n",
    "data.head()"
   ]
  },
  {
   "cell_type": "code",
   "execution_count": 10,
   "id": "fc04732b",
   "metadata": {},
   "outputs": [],
   "source": [
    "X = data.drop('TAXI_OUT',1)\n",
    "Y = data['TAXI_OUT']"
   ]
  },
  {
   "cell_type": "code",
   "execution_count": 11,
   "id": "a1e58b9b",
   "metadata": {},
   "outputs": [
    {
     "name": "stdout",
     "output_type": "stream",
     "text": [
      "(25936, 21) (2882, 21) (25936,) (2882,)\n"
     ]
    }
   ],
   "source": [
    "from sklearn.model_selection import train_test_split\n",
    "\n",
    "X_train, X_test, Y_train, Y_test = train_test_split(X,Y,test_size = 0.1, random_state=1)\n",
    "print(X_train.shape, X_test.shape ,Y_train.shape ,Y_test.shape)"
   ]
  },
  {
   "cell_type": "markdown",
   "id": "01422190",
   "metadata": {},
   "source": [
    "Linear Regression"
   ]
  },
  {
   "cell_type": "code",
   "execution_count": 12,
   "id": "5e4f726c",
   "metadata": {},
   "outputs": [],
   "source": [
    "from sklearn.linear_model import LinearRegression\n",
    "from sklearn.metrics import mean_squared_error"
   ]
  },
  {
   "cell_type": "code",
   "execution_count": 13,
   "id": "b498286c",
   "metadata": {},
   "outputs": [
    {
     "name": "stdout",
     "output_type": "stream",
     "text": [
      "6.552935613871773\n"
     ]
    }
   ],
   "source": [
    "linear_regression = LinearRegression()\n",
    "linear_regression.fit(X_train.values,Y_train.values)\n",
    "rmse = (mean_squared_error(Y_test,linear_regression.predict(X_test))**0.5)\n",
    "print(rmse)"
   ]
  },
  {
   "cell_type": "markdown",
   "id": "a9d95521",
   "metadata": {},
   "source": [
    "Ridge Regression"
   ]
  },
  {
   "cell_type": "code",
   "execution_count": 14,
   "id": "1ae77b64",
   "metadata": {},
   "outputs": [],
   "source": [
    "from sklearn.linear_model import Ridge"
   ]
  },
  {
   "cell_type": "code",
   "execution_count": 15,
   "id": "1bd9d28d",
   "metadata": {},
   "outputs": [
    {
     "name": "stdout",
     "output_type": "stream",
     "text": [
      "6.5838513681543\n"
     ]
    }
   ],
   "source": [
    "ridge_regression = Ridge(alpha=0.05,normalize=True)\n",
    "ridge_regression.fit(X_train,Y_train)\n",
    "rmse2 = (mean_squared_error(Y_test,ridge_regression.predict(X_test))**0.5)\n",
    "print(rmse2)"
   ]
  },
  {
   "cell_type": "markdown",
   "id": "63688068",
   "metadata": {},
   "source": [
    "Lasso Regression"
   ]
  },
  {
   "cell_type": "code",
   "execution_count": 16,
   "id": "6a4052e1",
   "metadata": {},
   "outputs": [],
   "source": [
    "from sklearn.linear_model import Lasso"
   ]
  },
  {
   "cell_type": "code",
   "execution_count": 17,
   "id": "065ac623",
   "metadata": {},
   "outputs": [
    {
     "name": "stdout",
     "output_type": "stream",
     "text": [
      "6.607969932800428\n"
     ]
    }
   ],
   "source": [
    "lasso_regression = Lasso(alpha=1,max_iter=1000,tol=.01)\n",
    "lasso_regression.fit(X_train,Y_train)\n",
    "rmse3=(mean_squared_error(Y_test,lasso_regression.predict(X_test))**0.5)\n",
    "print(rmse3)"
   ]
  },
  {
   "cell_type": "markdown",
   "id": "c29ca333",
   "metadata": {},
   "source": [
    "KNN MODEL"
   ]
  },
  {
   "cell_type": "code",
   "execution_count": 18,
   "id": "3ccf130b",
   "metadata": {},
   "outputs": [],
   "source": [
    "from sklearn.neighbors import KNeighborsRegressor"
   ]
  },
  {
   "cell_type": "code",
   "execution_count": 19,
   "id": "d8b625c0",
   "metadata": {},
   "outputs": [
    {
     "name": "stdout",
     "output_type": "stream",
     "text": [
      "6.716859562734372\n"
     ]
    }
   ],
   "source": [
    "knn_regression = KNeighborsRegressor(n_neighbors=200)\n",
    "knn_regression.fit(X_train,Y_train)\n",
    "rmse4=(mean_squared_error(Y_test,knn_regression.predict(X_test))**0.5)\n",
    "print(rmse4)"
   ]
  },
  {
   "cell_type": "markdown",
   "id": "84515cfd",
   "metadata": {},
   "source": [
    "SVR Model"
   ]
  },
  {
   "cell_type": "code",
   "execution_count": 20,
   "id": "36c3b81f",
   "metadata": {},
   "outputs": [],
   "source": [
    "from sklearn.svm import SVR\n",
    "from sklearn.preprocessing import StandardScaler"
   ]
  },
  {
   "cell_type": "code",
   "execution_count": 21,
   "id": "0e094c43",
   "metadata": {},
   "outputs": [
    {
     "name": "stdout",
     "output_type": "stream",
     "text": [
      "6.349381646022952\n"
     ]
    }
   ],
   "source": [
    "scaler = StandardScaler()\n",
    "\n",
    "X_train_st = scaler.fit_transform(X_train)\n",
    "X_test_st = scaler.fit_transform(X_test)\n",
    "\n",
    "svr = SVR()\n",
    "svr.fit(X_train_st, Y_train)\n",
    "\n",
    "rmse5 = (mean_squared_error(Y_test,svr.predict(X_test_st))**0.5)\n",
    "print(rmse5)"
   ]
  },
  {
   "cell_type": "markdown",
   "id": "6a3c0571",
   "metadata": {},
   "source": [
    "Naive Bayes"
   ]
  },
  {
   "cell_type": "code",
   "execution_count": 22,
   "id": "0b56266b",
   "metadata": {},
   "outputs": [
    {
     "name": "stdout",
     "output_type": "stream",
     "text": [
      "6.559893868539572\n"
     ]
    }
   ],
   "source": [
    "from sklearn.linear_model import BayesianRidge\n",
    "\n",
    "naive_bayes = BayesianRidge()\n",
    "naive_bayes.fit(X_train,Y_train)\n",
    "\n",
    "rmse6 = (mean_squared_error(Y_test, naive_bayes.predict(X_test))**0.5)\n",
    "print(rmse6)"
   ]
  },
  {
   "cell_type": "markdown",
   "id": "f4d22dba",
   "metadata": {},
   "source": [
    "LightGBM Model"
   ]
  },
  {
   "cell_type": "code",
   "execution_count": 23,
   "id": "b5cf39a4",
   "metadata": {},
   "outputs": [
    {
     "name": "stdout",
     "output_type": "stream",
     "text": [
      "5.725166805786936\n"
     ]
    }
   ],
   "source": [
    "from lightgbm import LGBMRegressor\n",
    "\n",
    "X_train_dropped = X_train.drop([\"Dew Point\"], 1)\n",
    "X_test_dropped = X_test.drop([\"Dew Point\"], 1)\n",
    "\n",
    "lgbm_regressor = LGBMRegressor()\n",
    "lgbm_regressor.fit(X_train_dropped, Y_train)\n",
    "\n",
    "rmse7 = (mean_squared_error(Y_test, lgbm_regressor.predict(X_test_dropped))**0.5)\n",
    "print(rmse7)"
   ]
  },
  {
   "cell_type": "markdown",
   "id": "b3b8e2fb",
   "metadata": {},
   "source": [
    "Random Forest"
   ]
  },
  {
   "cell_type": "code",
   "execution_count": 24,
   "id": "a81fe909",
   "metadata": {},
   "outputs": [
    {
     "name": "stdout",
     "output_type": "stream",
     "text": [
      "5.645890164182235\n"
     ]
    }
   ],
   "source": [
    "from sklearn.ensemble import RandomForestRegressor\n",
    "\n",
    "random_forest = RandomForestRegressor()\n",
    "random_forest.fit(X_train, Y_train)\n",
    "\n",
    "rmse8 = (mean_squared_error(Y_test, random_forest.predict(X_test))**0.5)\n",
    "print(rmse8)"
   ]
  },
  {
   "cell_type": "markdown",
   "id": "36514bab",
   "metadata": {},
   "source": [
    "# One Hot Encoding"
   ]
  },
  {
   "cell_type": "code",
   "execution_count": 25,
   "id": "78681fbc",
   "metadata": {},
   "outputs": [
    {
     "data": {
      "text/html": [
       "<div>\n",
       "<style scoped>\n",
       "    .dataframe tbody tr th:only-of-type {\n",
       "        vertical-align: middle;\n",
       "    }\n",
       "\n",
       "    .dataframe tbody tr th {\n",
       "        vertical-align: top;\n",
       "    }\n",
       "\n",
       "    .dataframe thead th {\n",
       "        text-align: right;\n",
       "    }\n",
       "</style>\n",
       "<table border=\"1\" class=\"dataframe\">\n",
       "  <thead>\n",
       "    <tr style=\"text-align: right;\">\n",
       "      <th></th>\n",
       "      <th>DEP_DELAY</th>\n",
       "      <th>CRS_ELAPSED_TIME</th>\n",
       "      <th>DISTANCE</th>\n",
       "      <th>CRS_DEP_M</th>\n",
       "      <th>DEP_TIME_M</th>\n",
       "      <th>CRS_ARR_M</th>\n",
       "      <th>Temperature</th>\n",
       "      <th>Dew Point</th>\n",
       "      <th>Humidity</th>\n",
       "      <th>Wind Speed</th>\n",
       "      <th>...</th>\n",
       "      <th>Condition_15</th>\n",
       "      <th>Condition_16</th>\n",
       "      <th>Condition_17</th>\n",
       "      <th>Condition_18</th>\n",
       "      <th>Condition_19</th>\n",
       "      <th>Condition_20</th>\n",
       "      <th>Condition_21</th>\n",
       "      <th>Condition_22</th>\n",
       "      <th>Condition_23</th>\n",
       "      <th>Condition_24</th>\n",
       "    </tr>\n",
       "  </thead>\n",
       "  <tbody>\n",
       "    <tr>\n",
       "      <th>28815</th>\n",
       "      <td>2</td>\n",
       "      <td>57</td>\n",
       "      <td>150</td>\n",
       "      <td>1370</td>\n",
       "      <td>1372</td>\n",
       "      <td>1427</td>\n",
       "      <td>39</td>\n",
       "      <td>38</td>\n",
       "      <td>96</td>\n",
       "      <td>6</td>\n",
       "      <td>...</td>\n",
       "      <td>0</td>\n",
       "      <td>0</td>\n",
       "      <td>0</td>\n",
       "      <td>0</td>\n",
       "      <td>0</td>\n",
       "      <td>0</td>\n",
       "      <td>0</td>\n",
       "      <td>0</td>\n",
       "      <td>0</td>\n",
       "      <td>0</td>\n",
       "    </tr>\n",
       "    <tr>\n",
       "      <th>28816</th>\n",
       "      <td>2</td>\n",
       "      <td>75</td>\n",
       "      <td>187</td>\n",
       "      <td>1390</td>\n",
       "      <td>1392</td>\n",
       "      <td>25</td>\n",
       "      <td>39</td>\n",
       "      <td>38</td>\n",
       "      <td>96</td>\n",
       "      <td>6</td>\n",
       "      <td>...</td>\n",
       "      <td>0</td>\n",
       "      <td>0</td>\n",
       "      <td>0</td>\n",
       "      <td>0</td>\n",
       "      <td>0</td>\n",
       "      <td>0</td>\n",
       "      <td>0</td>\n",
       "      <td>0</td>\n",
       "      <td>0</td>\n",
       "      <td>0</td>\n",
       "    </tr>\n",
       "    <tr>\n",
       "      <th>28817</th>\n",
       "      <td>283</td>\n",
       "      <td>392</td>\n",
       "      <td>2422</td>\n",
       "      <td>1125</td>\n",
       "      <td>1408</td>\n",
       "      <td>1337</td>\n",
       "      <td>39</td>\n",
       "      <td>38</td>\n",
       "      <td>96</td>\n",
       "      <td>6</td>\n",
       "      <td>...</td>\n",
       "      <td>0</td>\n",
       "      <td>0</td>\n",
       "      <td>0</td>\n",
       "      <td>0</td>\n",
       "      <td>0</td>\n",
       "      <td>0</td>\n",
       "      <td>0</td>\n",
       "      <td>0</td>\n",
       "      <td>0</td>\n",
       "      <td>0</td>\n",
       "    </tr>\n",
       "    <tr>\n",
       "      <th>28818</th>\n",
       "      <td>5</td>\n",
       "      <td>224</td>\n",
       "      <td>1598</td>\n",
       "      <td>1417</td>\n",
       "      <td>1422</td>\n",
       "      <td>261</td>\n",
       "      <td>39</td>\n",
       "      <td>38</td>\n",
       "      <td>96</td>\n",
       "      <td>6</td>\n",
       "      <td>...</td>\n",
       "      <td>0</td>\n",
       "      <td>0</td>\n",
       "      <td>0</td>\n",
       "      <td>0</td>\n",
       "      <td>0</td>\n",
       "      <td>0</td>\n",
       "      <td>0</td>\n",
       "      <td>0</td>\n",
       "      <td>0</td>\n",
       "      <td>0</td>\n",
       "    </tr>\n",
       "    <tr>\n",
       "      <th>28819</th>\n",
       "      <td>-1</td>\n",
       "      <td>225</td>\n",
       "      <td>1576</td>\n",
       "      <td>1439</td>\n",
       "      <td>1438</td>\n",
       "      <td>284</td>\n",
       "      <td>39</td>\n",
       "      <td>38</td>\n",
       "      <td>96</td>\n",
       "      <td>6</td>\n",
       "      <td>...</td>\n",
       "      <td>0</td>\n",
       "      <td>0</td>\n",
       "      <td>0</td>\n",
       "      <td>0</td>\n",
       "      <td>0</td>\n",
       "      <td>0</td>\n",
       "      <td>0</td>\n",
       "      <td>0</td>\n",
       "      <td>0</td>\n",
       "      <td>0</td>\n",
       "    </tr>\n",
       "  </tbody>\n",
       "</table>\n",
       "<p>5 rows × 172 columns</p>\n",
       "</div>"
      ],
      "text/plain": [
       "       DEP_DELAY  CRS_ELAPSED_TIME  DISTANCE  CRS_DEP_M  DEP_TIME_M  \\\n",
       "28815          2                57       150       1370        1372   \n",
       "28816          2                75       187       1390        1392   \n",
       "28817        283               392      2422       1125        1408   \n",
       "28818          5               224      1598       1417        1422   \n",
       "28819         -1               225      1576       1439        1438   \n",
       "\n",
       "       CRS_ARR_M  Temperature Dew Point  Humidity  Wind Speed  ...  \\\n",
       "28815       1427           39        38        96           6  ...   \n",
       "28816         25           39        38        96           6  ...   \n",
       "28817       1337           39        38        96           6  ...   \n",
       "28818        261           39        38        96           6  ...   \n",
       "28819        284           39        38        96           6  ...   \n",
       "\n",
       "       Condition_15  Condition_16  Condition_17  Condition_18  Condition_19  \\\n",
       "28815             0             0             0             0             0   \n",
       "28816             0             0             0             0             0   \n",
       "28817             0             0             0             0             0   \n",
       "28818             0             0             0             0             0   \n",
       "28819             0             0             0             0             0   \n",
       "\n",
       "       Condition_20  Condition_21  Condition_22  Condition_23  Condition_24  \n",
       "28815             0             0             0             0             0  \n",
       "28816             0             0             0             0             0  \n",
       "28817             0             0             0             0             0  \n",
       "28818             0             0             0             0             0  \n",
       "28819             0             0             0             0             0  \n",
       "\n",
       "[5 rows x 172 columns]"
      ]
     },
     "execution_count": 25,
     "metadata": {},
     "output_type": "execute_result"
    }
   ],
   "source": [
    "from sklearn.preprocessing import OneHotEncoder\n",
    "\n",
    "Y = data[\"TAXI_OUT\"].values\n",
    "X = data.drop(\"TAXI_OUT\",axis=1)\n",
    "X = pd.get_dummies(X, columns=[\"MONTH\",\"DAY_OF_MONTH\",\"DAY_OF_WEEK\",\"OP_UNIQUE_CARRIER\",\"DEST\",\"Wind\",\"Condition\"])\n",
    "\n",
    "X.tail()\n",
    "\n"
   ]
  },
  {
   "cell_type": "code",
   "execution_count": 26,
   "id": "605726ab",
   "metadata": {},
   "outputs": [
    {
     "name": "stdout",
     "output_type": "stream",
     "text": [
      "(25936, 172) (2882, 172) (25936,) (2882,)\n"
     ]
    }
   ],
   "source": [
    "from sklearn.model_selection import train_test_split\n",
    "X_train,X_test,Y_train,Y_test=train_test_split(X,Y,test_size=0.10,shuffle= True)\n",
    "print(X_train.shape,X_test.shape,Y_train.shape,Y_test.shape)"
   ]
  },
  {
   "cell_type": "markdown",
   "id": "10c44737",
   "metadata": {},
   "source": [
    "Linear Regression"
   ]
  },
  {
   "cell_type": "code",
   "execution_count": 27,
   "id": "49ef58c4",
   "metadata": {},
   "outputs": [
    {
     "name": "stdout",
     "output_type": "stream",
     "text": [
      "6.230246123709142\n"
     ]
    }
   ],
   "source": [
    "from sklearn.linear_model import LinearRegression\n",
    "from sklearn.metrics import mean_squared_error\n",
    "\n",
    "o_linear = LinearRegression()\n",
    "o_linear = o_linear.fit(X_train,Y_train)\n",
    "\n",
    "o_linear_rms = (mean_squared_error(Y_test,o_linear.predict(X_test))**0.5)\n",
    "print(o_linear_rms)"
   ]
  },
  {
   "cell_type": "markdown",
   "id": "080ffeec",
   "metadata": {},
   "source": [
    "Ridge Regression"
   ]
  },
  {
   "cell_type": "code",
   "execution_count": 28,
   "id": "d34a4e4a",
   "metadata": {},
   "outputs": [
    {
     "name": "stdout",
     "output_type": "stream",
     "text": [
      "6.2460817578591055\n"
     ]
    }
   ],
   "source": [
    "from sklearn.linear_model import Ridge\n",
    "\n",
    "o_ridge = Ridge(alpha=0.05, normalize=True)\n",
    "o_ridge.fit(X_train,Y_train)\n",
    "\n",
    "o_ridge_rms = mean_squared_error(Y_test,o_ridge.predict(X_test))**0.5\n",
    "print(o_ridge_rms)"
   ]
  },
  {
   "cell_type": "markdown",
   "id": "adcabb0c",
   "metadata": {},
   "source": [
    "Lasso Regression"
   ]
  },
  {
   "cell_type": "code",
   "execution_count": 29,
   "id": "d15fafd0",
   "metadata": {},
   "outputs": [
    {
     "name": "stdout",
     "output_type": "stream",
     "text": [
      "6.84646441979972\n"
     ]
    }
   ],
   "source": [
    "from sklearn.linear_model import Lasso\n",
    "\n",
    "o_lasso = Lasso(alpha=0.05, normalize=True)\n",
    "o_lasso.fit(X_train,Y_train)\n",
    "\n",
    "o_lasso_rms = mean_squared_error(Y_test,o_lasso.predict(X_test))**0.5\n",
    "print(o_lasso_rms)"
   ]
  },
  {
   "cell_type": "markdown",
   "id": "71df9059",
   "metadata": {},
   "source": [
    "KNN Model"
   ]
  },
  {
   "cell_type": "code",
   "execution_count": 30,
   "id": "5af1b21f",
   "metadata": {},
   "outputs": [
    {
     "name": "stdout",
     "output_type": "stream",
     "text": [
      "6.6697970167741065\n"
     ]
    }
   ],
   "source": [
    "from sklearn.neighbors import KNeighborsRegressor\n",
    "\n",
    "o_knn = KNeighborsRegressor(n_neighbors = 200)\n",
    "o_knn.fit(X_train, Y_train)\n",
    "\n",
    "o_knn_rms = mean_squared_error(Y_test,o_knn.predict(X_test))**0.5\n",
    "print(o_knn_rms)"
   ]
  },
  {
   "cell_type": "markdown",
   "id": "e481dab0",
   "metadata": {},
   "source": [
    "SVR Model"
   ]
  },
  {
   "cell_type": "code",
   "execution_count": 31,
   "id": "252c6d68",
   "metadata": {},
   "outputs": [
    {
     "name": "stdout",
     "output_type": "stream",
     "text": [
      "6.243015524969381\n"
     ]
    }
   ],
   "source": [
    "from sklearn.svm import SVR\n",
    "from sklearn.preprocessing import StandardScaler\n",
    "\n",
    "SC1 = StandardScaler()\n",
    "SC2 = StandardScaler()\n",
    "\n",
    "X1 = X_train.copy()\n",
    "X2 = X_test.copy()\n",
    "\n",
    "X1 = SC1.fit_transform(X1)\n",
    "X2 = SC2.fit_transform(X2)\n",
    "\n",
    "svr = SVR()\n",
    "svr.fit(X1,Y_train)\n",
    "\n",
    "o_svr_rms = mean_squared_error(Y_test,svr.predict(X2),squared = False)\n",
    "print(o_svr_rms)"
   ]
  },
  {
   "cell_type": "markdown",
   "id": "fb4d2cab",
   "metadata": {},
   "source": [
    "Naive Bayes"
   ]
  },
  {
   "cell_type": "code",
   "execution_count": 32,
   "id": "ef3f49eb",
   "metadata": {},
   "outputs": [
    {
     "name": "stdout",
     "output_type": "stream",
     "text": [
      "6.238055134756394\n"
     ]
    }
   ],
   "source": [
    "from sklearn.linear_model import BayesianRidge\n",
    "\n",
    "o_bayes = BayesianRidge()\n",
    "o_bayes.fit(X_train, Y_train)\n",
    "\n",
    "o_bayes_rms = mean_squared_error(Y_test,o_bayes.predict(X_test))**0.5\n",
    "print(o_bayes_rms)"
   ]
  },
  {
   "cell_type": "markdown",
   "id": "36ecc794",
   "metadata": {},
   "source": [
    "Random Forest"
   ]
  },
  {
   "cell_type": "code",
   "execution_count": 33,
   "id": "56f814e1",
   "metadata": {},
   "outputs": [
    {
     "name": "stdout",
     "output_type": "stream",
     "text": [
      "5.588236597714284\n"
     ]
    }
   ],
   "source": [
    "from sklearn.ensemble import RandomForestRegressor\n",
    "\n",
    "o_random = RandomForestRegressor()\n",
    "o_random.fit(X_train,Y_train)\n",
    "\n",
    "o_random_rms = mean_squared_error(Y_test,o_random.predict(X_test))**0.5\n",
    "print(o_random_rms)"
   ]
  },
  {
   "cell_type": "markdown",
   "id": "3f0ace00",
   "metadata": {},
   "source": [
    "# Comparison"
   ]
  },
  {
   "cell_type": "code",
   "execution_count": 34,
   "id": "7237e2cc",
   "metadata": {},
   "outputs": [
    {
     "data": {
      "image/png": "[encoded data removed]",
      "text/plain": [
       "<Figure size 432x288 with 1 Axes>"
      ]
     },
     "metadata": {
      "needs_background": "light"
     },
     "output_type": "display_data"
    }
   ],
   "source": [
    "l_array = np.array([rmse,rmse2,rmse3,rmse4,rmse5,rmse6,rmse8])\n",
    "o_array = np.array([o_linear_rms,o_ridge_rms,o_lasso_rms,o_knn_rms,o_svr_rms,o_bayes_rms,o_random_rms])\n",
    "models = [\"LNR\",\"RR\",\"LSR\",\"KNNR\",\"SVR\",\"BR\",\"RFR\"]\n",
    "plt.plot(models,l_array)\n",
    "plt.plot(models,o_array)\n",
    "plt.legend([\"Label Encoding\",\"One Hot Encoding\"])\n",
    "plt.xlabel(\"ML Models\")\n",
    "plt.ylabel(\"RMSE\")\n",
    "plt.show()"
   ]
  },
  {
   "cell_type": "markdown",
   "id": "bad21c28",
   "metadata": {},
   "source": [
    "One Hot Encoding is better than Label Encoding for this problem"
   ]
  },
  {
   "cell_type": "markdown",
   "id": "21faef00",
   "metadata": {},
   "source": [
    "Also, Random Forest is the best approach for this question."
   ]
  }
 ],
 "metadata": {
  "kernelspec": {
   "display_name": "Python 3",
   "language": "python",
   "name": "python3"
  },
  "language_info": {
   "codemirror_mode": {
    "name": "ipython",
    "version": 3
   },
   "file_extension": ".py",
   "mimetype": "text/x-python",
   "name": "python",
   "nbconvert_exporter": "python",
   "pygments_lexer": "ipython3",
   "version": "3.9.5"
  }
 },
 "nbformat": 4,
 "nbformat_minor": 5
}
